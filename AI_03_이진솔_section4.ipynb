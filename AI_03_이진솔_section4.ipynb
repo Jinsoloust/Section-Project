{
  "nbformat": 4,
  "nbformat_minor": 0,
  "metadata": {
    "colab": {
      "name": "Untitled7.ipynb",
      "provenance": [],
      "authorship_tag": "ABX9TyO/kaMYhnGnwk6JuhXkqPpC",
      "include_colab_link": true
    },
    "kernelspec": {
      "name": "python3",
      "display_name": "Python 3"
    },
    "language_info": {
      "name": "python"
    }
  },
  "cells": [
    {
      "cell_type": "markdown",
      "metadata": {
        "id": "view-in-github",
        "colab_type": "text"
      },
      "source": [
        "<a href=\"https://colab.research.google.com/github/Jinsoloust/Section-Project/blob/main/AI_03_%EC%9D%B4%EC%A7%84%EC%86%94_section4.ipynb\" target=\"_parent\"><img src=\"https://colab.research.google.com/assets/colab-badge.svg\" alt=\"Open In Colab\"/></a>"
      ]
    },
    {
      "cell_type": "code",
      "metadata": {
        "colab": {
          "base_uri": "https://localhost:8080/"
        },
        "id": "1XmKpD2xSZGU",
        "outputId": "a9459c65-6ff0-4c10-cfbb-ae6c5febc2f8"
      },
      "source": [
        "import nltk\n",
        "nltk.download('punkt')"
      ],
      "execution_count": 2,
      "outputs": [
        {
          "output_type": "stream",
          "name": "stdout",
          "text": [
            "[nltk_data] Downloading package punkt to /root/nltk_data...\n",
            "[nltk_data]   Unzipping tokenizers/punkt.zip.\n"
          ]
        },
        {
          "output_type": "execute_result",
          "data": {
            "text/plain": [
              "True"
            ]
          },
          "metadata": {},
          "execution_count": 2
        }
      ]
    },
    {
      "cell_type": "code",
      "metadata": {
        "colab": {
          "base_uri": "https://localhost:8080/"
        },
        "id": "Ka6w7L9EweGr",
        "outputId": "2bbe9d6a-03c5-469b-e56c-f5737b9730ec"
      },
      "source": [
        "pip install konlpy"
      ],
      "execution_count": 5,
      "outputs": [
        {
          "output_type": "stream",
          "name": "stdout",
          "text": [
            "Collecting konlpy\n",
            "  Downloading konlpy-0.5.2-py2.py3-none-any.whl (19.4 MB)\n",
            "\u001b[K     |████████████████████████████████| 19.4 MB 5.5 MB/s \n",
            "\u001b[?25hRequirement already satisfied: lxml>=4.1.0 in /usr/local/lib/python3.7/dist-packages (from konlpy) (4.2.6)\n",
            "Collecting JPype1>=0.7.0\n",
            "  Downloading JPype1-1.3.0-cp37-cp37m-manylinux_2_5_x86_64.manylinux1_x86_64.whl (448 kB)\n",
            "\u001b[K     |████████████████████████████████| 448 kB 39.8 MB/s \n",
            "\u001b[?25hRequirement already satisfied: tweepy>=3.7.0 in /usr/local/lib/python3.7/dist-packages (from konlpy) (3.10.0)\n",
            "Collecting beautifulsoup4==4.6.0\n",
            "  Downloading beautifulsoup4-4.6.0-py3-none-any.whl (86 kB)\n",
            "\u001b[K     |████████████████████████████████| 86 kB 4.7 MB/s \n",
            "\u001b[?25hCollecting colorama\n",
            "  Downloading colorama-0.4.4-py2.py3-none-any.whl (16 kB)\n",
            "Requirement already satisfied: numpy>=1.6 in /usr/local/lib/python3.7/dist-packages (from konlpy) (1.19.5)\n",
            "Requirement already satisfied: typing-extensions in /usr/local/lib/python3.7/dist-packages (from JPype1>=0.7.0->konlpy) (3.7.4.3)\n",
            "Requirement already satisfied: six>=1.10.0 in /usr/local/lib/python3.7/dist-packages (from tweepy>=3.7.0->konlpy) (1.15.0)\n",
            "Requirement already satisfied: requests-oauthlib>=0.7.0 in /usr/local/lib/python3.7/dist-packages (from tweepy>=3.7.0->konlpy) (1.3.0)\n",
            "Requirement already satisfied: requests[socks]>=2.11.1 in /usr/local/lib/python3.7/dist-packages (from tweepy>=3.7.0->konlpy) (2.23.0)\n",
            "Requirement already satisfied: oauthlib>=3.0.0 in /usr/local/lib/python3.7/dist-packages (from requests-oauthlib>=0.7.0->tweepy>=3.7.0->konlpy) (3.1.1)\n",
            "Requirement already satisfied: urllib3!=1.25.0,!=1.25.1,<1.26,>=1.21.1 in /usr/local/lib/python3.7/dist-packages (from requests[socks]>=2.11.1->tweepy>=3.7.0->konlpy) (1.24.3)\n",
            "Requirement already satisfied: chardet<4,>=3.0.2 in /usr/local/lib/python3.7/dist-packages (from requests[socks]>=2.11.1->tweepy>=3.7.0->konlpy) (3.0.4)\n",
            "Requirement already satisfied: certifi>=2017.4.17 in /usr/local/lib/python3.7/dist-packages (from requests[socks]>=2.11.1->tweepy>=3.7.0->konlpy) (2021.5.30)\n",
            "Requirement already satisfied: idna<3,>=2.5 in /usr/local/lib/python3.7/dist-packages (from requests[socks]>=2.11.1->tweepy>=3.7.0->konlpy) (2.10)\n",
            "Requirement already satisfied: PySocks!=1.5.7,>=1.5.6 in /usr/local/lib/python3.7/dist-packages (from requests[socks]>=2.11.1->tweepy>=3.7.0->konlpy) (1.7.1)\n",
            "Installing collected packages: JPype1, colorama, beautifulsoup4, konlpy\n",
            "  Attempting uninstall: beautifulsoup4\n",
            "    Found existing installation: beautifulsoup4 4.6.3\n",
            "    Uninstalling beautifulsoup4-4.6.3:\n",
            "      Successfully uninstalled beautifulsoup4-4.6.3\n",
            "Successfully installed JPype1-1.3.0 beautifulsoup4-4.6.0 colorama-0.4.4 konlpy-0.5.2\n"
          ]
        }
      ]
    },
    {
      "cell_type": "code",
      "metadata": {
        "id": "0rnWOBzqwHVM"
      },
      "source": [
        "import urllib.request\n",
        "import zipfile\n",
        "from lxml import etree\n",
        "import re\n",
        "from nltk.tokenize import word_tokenize, sent_tokenize"
      ],
      "execution_count": 3,
      "outputs": []
    },
    {
      "cell_type": "code",
      "metadata": {
        "id": "-zPmfqIqwHo1"
      },
      "source": [
        "import pandas as pd\n",
        "import json\n",
        "import matplotlib.pyplot as plt\n",
        "import urllib.request\n",
        "from gensim.models.word2vec import Word2Vec\n",
        "from konlpy.tag import Okt"
      ],
      "execution_count": 7,
      "outputs": []
    },
    {
      "cell_type": "code",
      "metadata": {
        "colab": {
          "resources": {
            "http://localhost:8080/nbextensions/google.colab/files.js": {
              "data": "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",
              "ok": true,
              "headers": [
                [
                  "content-type",
                  "application/javascript"
                ]
              ],
              "status": 200,
              "status_text": ""
            }
          },
          "base_uri": "https://localhost:8080/",
          "height": 1000
        },
        "id": "bZE5Gvr6vRi4",
        "outputId": "a42bb1f9-efa0-47bd-dda4-c68b8a18ae24"
      },
      "source": [
        "# 데이터셋 불러오기\n",
        "from google.colab import files\n",
        "uploaded = files.upload()"
      ],
      "execution_count": 11,
      "outputs": [
        {
          "output_type": "display_data",
          "data": {
            "text/html": [
              "\n",
              "     <input type=\"file\" id=\"files-bb56e75b-4962-4aec-ab10-1831d6ec928b\" name=\"files[]\" multiple disabled\n",
              "        style=\"border:none\" />\n",
              "     <output id=\"result-bb56e75b-4962-4aec-ab10-1831d6ec928b\">\n",
              "      Upload widget is only available when the cell has been executed in the\n",
              "      current browser session. Please rerun this cell to enable.\n",
              "      </output>\n",
              "      <script src=\"/nbextensions/google.colab/files.js\"></script> "
            ],
            "text/plain": [
              "<IPython.core.display.HTML object>"
            ]
          },
          "metadata": {}
        },
        {
          "output_type": "stream",
          "name": "stdout",
          "text": [
            "Saving PCY_20171122038330711_0.json to PCY_20171122038330711_0 (1).json\n",
            "Saving PCY_20171122038330711_1.json to PCY_20171122038330711_1 (1).json\n",
            "Saving PCY_20171122038330711_2.json to PCY_20171122038330711_2 (1).json\n",
            "Saving PCY_20171122067299231_0.json to PCY_20171122067299231_0 (1).json\n",
            "Saving PCY_20171122077503681_1.json to PCY_20171122077503681_1 (1).json\n",
            "Saving PCY_20171122077503681_2.json to PCY_20171122077503681_2 (1).json\n",
            "Saving PCY_20171122077503681_3.json to PCY_20171122077503681_3 (1).json\n",
            "Saving PCY_20171122077503681_4.json to PCY_20171122077503681_4 (1).json\n",
            "Saving PCY_20171122077503681_5.json to PCY_20171122077503681_5 (1).json\n",
            "Saving PCY_20171122077503681_6.json to PCY_20171122077503681_6 (1).json\n",
            "Saving PCY_20171122077503681_7.json to PCY_20171122077503681_7 (1).json\n",
            "Saving PCY_20171122077503681_8.json to PCY_20171122077503681_8 (1).json\n",
            "Saving PCY_20171122077503681_9.json to PCY_20171122077503681_9 (1).json\n",
            "Saving PCY_20171122077503681_10.json to PCY_20171122077503681_10 (1).json\n",
            "Saving PCY_20171122077503681_11.json to PCY_20171122077503681_11 (1).json\n",
            "Saving PCY_20171122077503681_12.json to PCY_20171122077503681_12 (1).json\n",
            "Saving PCY_20171122077503681_13.json to PCY_20171122077503681_13 (1).json\n",
            "Saving PCY_20171122077503681_14.json to PCY_20171122077503681_14 (1).json\n",
            "Saving PCY_20171122077503681_15.json to PCY_20171122077503681_15 (1).json\n",
            "Saving PCY_20171122077503681_16.json to PCY_20171122077503681_16 (1).json\n",
            "Saving PCY_20171122077503681_17.json to PCY_20171122077503681_17 (1).json\n",
            "Saving PCY_20171122077503681_18.json to PCY_20171122077503681_18 (1).json\n",
            "Saving PCY_20171122077503681_19.json to PCY_20171122077503681_19 (1).json\n",
            "Saving PCY_20171122077503681_20.json to PCY_20171122077503681_20 (1).json\n",
            "Saving PCY_20171122077503681_21.json to PCY_20171122077503681_21 (1).json\n",
            "Saving PCY_20171122077503681_22.json to PCY_20171122077503681_22 (1).json\n",
            "Saving PCY_20171122077503681_23.json to PCY_20171122077503681_23 (1).json\n",
            "Saving PCY_20171122077503681_24.json to PCY_20171122077503681_24 (1).json\n",
            "Saving PCY_20171122077503681_25.json to PCY_20171122077503681_25 (1).json\n",
            "Saving PCY_20171122077503681_26.json to PCY_20171122077503681_26 (1).json\n",
            "Saving PCY_20171122077503681_27.json to PCY_20171122077503681_27 (1).json\n",
            "Saving PCY_20171122077503681_28.json to PCY_20171122077503681_28 (1).json\n",
            "Saving PCY_20171122077503681_29.json to PCY_20171122077503681_29 (1).json\n",
            "Saving PCY_20171122077503681_30.json to PCY_20171122077503681_30 (1).json\n",
            "Saving PCY_20171122077503681_31.json to PCY_20171122077503681_31 (1).json\n",
            "Saving PCY_20171122077503681_32.json to PCY_20171122077503681_32 (1).json\n",
            "Saving PCY_20171122077503681_33.json to PCY_20171122077503681_33 (1).json\n",
            "Saving PCY_20171122077503681_34.json to PCY_20171122077503681_34 (1).json\n",
            "Saving PCY_20171122077503681_35.json to PCY_20171122077503681_35 (1).json\n",
            "Saving PCY_20171122077503681_36.json to PCY_20171122077503681_36 (1).json\n",
            "Saving PCY_20171122077503681_37.json to PCY_20171122077503681_37 (1).json\n",
            "Saving PCY_20171122077503681_38.json to PCY_20171122077503681_38 (1).json\n",
            "Saving PCY_20171122077503681_40.json to PCY_20171122077503681_40 (1).json\n",
            "Saving PCY_20171122077503681_41.json to PCY_20171122077503681_41 (1).json\n",
            "Saving PCY_20171122077503681_42.json to PCY_20171122077503681_42 (1).json\n",
            "Saving PCY_20171122077503681_44.json to PCY_20171122077503681_44 (1).json\n",
            "Saving PCY_20171122077503681_45.json to PCY_20171122077503681_45 (1).json\n",
            "Saving PCY_20171122077503681_46.json to PCY_20171122077503681_46 (1).json\n",
            "Saving PCY_20171122077503681_47.json to PCY_20171122077503681_47 (1).json\n",
            "Saving PCY_20171122077503681_48.json to PCY_20171122077503681_48 (1).json\n",
            "Saving PCY_20171122077503681_49.json to PCY_20171122077503681_49 (1).json\n",
            "Saving PCY_20171122077503681_50.json to PCY_20171122077503681_50 (1).json\n",
            "Saving PCY_20171122077503681_51.json to PCY_20171122077503681_51 (1).json\n",
            "Saving PCY_20171122077503681_52.json to PCY_20171122077503681_52 (1).json\n",
            "Saving PCY_20171122077503681_53.json to PCY_20171122077503681_53 (1).json\n",
            "Saving PCY_20171122077503681_54.json to PCY_20171122077503681_54 (1).json\n",
            "Saving PCY_20171122077503681_55.json to PCY_20171122077503681_55 (1).json\n",
            "Saving PCY_20171122077503681_56.json to PCY_20171122077503681_56 (1).json\n",
            "Saving PCY_20171122077503681_57.json to PCY_20171122077503681_57 (1).json\n",
            "Saving PCY_20171122077503681_58.json to PCY_20171122077503681_58 (1).json\n",
            "Saving PCY_20171122077503681_59.json to PCY_20171122077503681_59 (1).json\n",
            "Saving PCY_20171122077503681_62.json to PCY_20171122077503681_62.json\n",
            "Saving PCY_20171122077503681_63.json to PCY_20171122077503681_63.json\n",
            "Saving PCY_20171122077503681_64.json to PCY_20171122077503681_64.json\n",
            "Saving PCY_20171122077503681_65.json to PCY_20171122077503681_65.json\n",
            "Saving PCY_20171122077503681_66.json to PCY_20171122077503681_66.json\n",
            "Saving PCY_20171122077503681_68.json to PCY_20171122077503681_68.json\n",
            "Saving PCY_20171122077503681_69.json to PCY_20171122077503681_69.json\n",
            "Saving PCY_20171122077503681_70.json to PCY_20171122077503681_70.json\n",
            "Saving PCY_20171122077503681_71.json to PCY_20171122077503681_71.json\n",
            "Saving PCY_20171122077503681_72.json to PCY_20171122077503681_72.json\n",
            "Saving PCY_20171122077503681_75.json to PCY_20171122077503681_75.json\n",
            "Saving PCY_20171122077503681_76.json to PCY_20171122077503681_76.json\n",
            "Saving PCY_20171122077503681_77.json to PCY_20171122077503681_77.json\n",
            "Saving PCY_20171122077503681_78.json to PCY_20171122077503681_78.json\n",
            "Saving PCY_20171122077503681_79.json to PCY_20171122077503681_79.json\n",
            "Saving PCY_20171122077503681_81.json to PCY_20171122077503681_81.json\n",
            "Saving PCY_20171122077503681_82.json to PCY_20171122077503681_82.json\n",
            "Saving PCY_20171122077503681_83.json to PCY_20171122077503681_83.json\n",
            "Saving PCY_20171122077503681_84.json to PCY_20171122077503681_84.json\n",
            "Saving PCY_20171122077503681_85.json to PCY_20171122077503681_85.json\n",
            "Saving PCY_20171122077503681_86.json to PCY_20171122077503681_86.json\n",
            "Saving PCY_20171122077503681_87.json to PCY_20171122077503681_87.json\n",
            "Saving PCY_20171122077503681_88.json to PCY_20171122077503681_88.json\n",
            "Saving PCY_20171122077503681_89.json to PCY_20171122077503681_89.json\n",
            "Saving PCY_20171122077503681_90.json to PCY_20171122077503681_90.json\n",
            "Saving PCY_20171122077503681_91.json to PCY_20171122077503681_91.json\n",
            "Saving PCY_20171122077503681_92.json to PCY_20171122077503681_92.json\n",
            "Saving PCY_20171122077503681_93.json to PCY_20171122077503681_93.json\n",
            "Saving PCY_20171122077503681_94.json to PCY_20171122077503681_94.json\n",
            "Saving PCY_20171122077503681_95.json to PCY_20171122077503681_95.json\n",
            "Saving PCY_20171122077503681_97.json to PCY_20171122077503681_97.json\n",
            "Saving PCY_20171122077503681_99.json to PCY_20171122077503681_99.json\n",
            "Saving PCY_20171122077503681_100.json to PCY_20171122077503681_100.json\n",
            "Saving PCY_20171122077503681_101.json to PCY_20171122077503681_101.json\n",
            "Saving PCY_20171122077503681_102.json to PCY_20171122077503681_102.json\n",
            "Saving PCY_20171122077503681_103.json to PCY_20171122077503681_103.json\n",
            "Saving PCY_20171122077503681_104.json to PCY_20171122077503681_104.json\n",
            "Saving PCY_20171122077503681_106.json to PCY_20171122077503681_106.json\n",
            "Saving PCY_20171122077503681_107.json to PCY_20171122077503681_107.json\n",
            "Saving PCY_20171122077503681_108.json to PCY_20171122077503681_108.json\n",
            "Saving PCY_20171122077503681_109.json to PCY_20171122077503681_109.json\n",
            "Saving PCY_20171122078416001_0.json to PCY_20171122078416001_0.json\n",
            "Saving PCY_20171122078416001_1.json to PCY_20171122078416001_1.json\n",
            "Saving PCY_20171122078416001_2.json to PCY_20171122078416001_2.json\n",
            "Saving PCY_20171122078416001_5.json to PCY_20171122078416001_5.json\n",
            "Saving PCY_20171122078416001_6.json to PCY_20171122078416001_6.json\n",
            "Saving PCY_20171122078416001_7.json to PCY_20171122078416001_7.json\n",
            "Saving PCY_20171122078416001_8.json to PCY_20171122078416001_8.json\n",
            "Saving PCY_20171122078416001_9.json to PCY_20171122078416001_9.json\n",
            "Saving PCY_20171122078416001_10.json to PCY_20171122078416001_10.json\n",
            "Saving PCY_20171122078416001_11.json to PCY_20171122078416001_11.json\n",
            "Saving PCY_20171122078416001_13.json to PCY_20171122078416001_13.json\n",
            "Saving PCY_20171122078416001_14.json to PCY_20171122078416001_14.json\n",
            "Saving PCY_20171122078416001_15.json to PCY_20171122078416001_15.json\n",
            "Saving PCY_20171122078416001_16.json to PCY_20171122078416001_16.json\n",
            "Saving PCY_20171122078416001_17.json to PCY_20171122078416001_17.json\n",
            "Saving PCY_20171122078416001_18.json to PCY_20171122078416001_18.json\n",
            "Saving PCY_20171122078416001_19.json to PCY_20171122078416001_19.json\n",
            "Saving PCY_20171122078416001_21.json to PCY_20171122078416001_21.json\n",
            "Saving PCY_20171122078416001_22.json to PCY_20171122078416001_22.json\n",
            "Saving PCY_20171122078416001_23.json to PCY_20171122078416001_23.json\n",
            "Saving PCY_20171122078416001_25.json to PCY_20171122078416001_25.json\n",
            "Saving PCY_20171122078416001_26.json to PCY_20171122078416001_26.json\n",
            "Saving PCY_20171122078416001_27.json to PCY_20171122078416001_27.json\n",
            "Saving PCY_20171122078416001_28.json to PCY_20171122078416001_28.json\n",
            "Saving PCY_20171122078416001_29.json to PCY_20171122078416001_29.json\n",
            "Saving PCY_20171122079129271_0.json to PCY_20171122079129271_0.json\n",
            "Saving PCY_20171122079129271_1.json to PCY_20171122079129271_1.json\n",
            "Saving PCY_20171122079129271_2.json to PCY_20171122079129271_2.json\n",
            "Saving PCY_20171122079129271_3.json to PCY_20171122079129271_3.json\n",
            "Saving PCY_20171122079129271_4.json to PCY_20171122079129271_4.json\n",
            "Saving PCY_20171122079129271_6.json to PCY_20171122079129271_6.json\n",
            "Saving PCY_20171122079129271_7.json to PCY_20171122079129271_7.json\n",
            "Saving PCY_20171122079129271_8.json to PCY_20171122079129271_8.json\n",
            "Saving PCY_20171122079129271_9.json to PCY_20171122079129271_9.json\n",
            "Saving PCY_20171122079129271_10.json to PCY_20171122079129271_10.json\n",
            "Saving PCY_20171122079129271_11.json to PCY_20171122079129271_11.json\n",
            "Saving PCY_20171122079129271_12.json to PCY_20171122079129271_12.json\n",
            "Saving PCY_20171122079129271_13.json to PCY_20171122079129271_13.json\n",
            "Saving PCY_20171122079129271_14.json to PCY_20171122079129271_14.json\n",
            "Saving PCY_20171122079129271_15.json to PCY_20171122079129271_15.json\n",
            "Saving PCY_20171122079129271_16.json to PCY_20171122079129271_16.json\n",
            "Saving PCY_20171122079129271_19.json to PCY_20171122079129271_19.json\n",
            "Saving PCY_20171122079129271_20.json to PCY_20171122079129271_20.json\n",
            "Saving PCY_20171122079129271_21.json to PCY_20171122079129271_21.json\n",
            "Saving PCY_20171122079129271_24.json to PCY_20171122079129271_24.json\n",
            "Saving PCY_20171122079129271_25.json to PCY_20171122079129271_25.json\n",
            "Saving PCY_20171122079129271_26.json to PCY_20171122079129271_26.json\n",
            "Saving PCY_20171122079129271_27.json to PCY_20171122079129271_27.json\n",
            "Saving PCY_20171122079129271_28.json to PCY_20171122079129271_28.json\n",
            "Saving PCY_20171122079129271_29.json to PCY_20171122079129271_29.json\n",
            "Saving PCY_20171122079129271_30.json to PCY_20171122079129271_30.json\n",
            "Saving PCY_20171122079129271_31.json to PCY_20171122079129271_31.json\n",
            "Saving PCY_201410221112092321_0.json to PCY_201410221112092321_0.json\n",
            "Saving PCY_201410221112092321_1.json to PCY_201410221112092321_1.json\n",
            "Saving PCY_201410221112092321_2.json to PCY_201410221112092321_2.json\n",
            "Saving PCY_201410221112092321_3.json to PCY_201410221112092321_3.json\n",
            "Saving PCY_201410221112092321_4.json to PCY_201410221112092321_4.json\n",
            "Saving PCY_201410221112520621_0.json to PCY_201410221112520621_0.json\n",
            "Saving PCY_201410221112520621_1.json to PCY_201410221112520621_1.json\n",
            "Saving PCY_201410221112520621_2.json to PCY_201410221112520621_2.json\n",
            "Saving PCY_201410221112520621_3.json to PCY_201410221112520621_3.json\n",
            "Saving PCY_201410221112520621_4.json to PCY_201410221112520621_4.json\n",
            "Saving PCY_201410221112520621_6.json to PCY_201410221112520621_6.json\n",
            "Saving PCY_201410221112520621_7.json to PCY_201410221112520621_7.json\n",
            "Saving PCY_201410221112520621_8.json to PCY_201410221112520621_8.json\n",
            "Saving PCY_201410221112520621_9.json to PCY_201410221112520621_9.json\n",
            "Saving PCY_201410221112520621_10.json to PCY_201410221112520621_10.json\n",
            "Saving PCY_201410221112520621_11.json to PCY_201410221112520621_11.json\n",
            "Saving PCY_201410221112520621_12.json to PCY_201410221112520621_12.json\n",
            "Saving PCY_201410221112520621_13.json to PCY_201410221112520621_13.json\n",
            "Saving PCY_201410221112520621_14.json to PCY_201410221112520621_14.json\n",
            "Saving PCY_201410221112520621_15.json to PCY_201410221112520621_15.json\n",
            "Saving PCY_201410221112520621_16.json to PCY_201410221112520621_16.json\n",
            "Saving PCY_201410221112520621_17.json to PCY_201410221112520621_17.json\n",
            "Saving PCY_201410221112520621_18.json to PCY_201410221112520621_18.json\n",
            "Saving PCY_201410221112520621_19.json to PCY_201410221112520621_19.json\n",
            "Saving PCY_201410221112520621_20.json to PCY_201410221112520621_20.json\n",
            "Saving PCY_201410221112520621_21.json to PCY_201410221112520621_21.json\n",
            "Saving PCY_201410221112520621_22.json to PCY_201410221112520621_22.json\n",
            "Saving PCY_201410221112520621_23.json to PCY_201410221112520621_23.json\n",
            "Saving PCY_201410221112520621_24.json to PCY_201410221112520621_24.json\n",
            "Saving PCY_201410221112520621_25.json to PCY_201410221112520621_25.json\n",
            "Saving PCY_201410221112520621_26.json to PCY_201410221112520621_26.json\n",
            "Saving PCY_201410221112520621_28.json to PCY_201410221112520621_28.json\n",
            "Saving PCY_201410221112520621_29.json to PCY_201410221112520621_29.json\n",
            "Saving PCY_201410221112520621_31.json to PCY_201410221112520621_31.json\n",
            "Saving PCY_201410221112520621_32.json to PCY_201410221112520621_32.json\n",
            "Saving PCY_201410221112520621_33.json to PCY_201410221112520621_33.json\n",
            "Saving PCY_201410221112520621_35.json to PCY_201410221112520621_35.json\n",
            "Saving PCY_201410221112520621_36.json to PCY_201410221112520621_36.json\n",
            "Saving PCY_201410221112520621_37.json to PCY_201410221112520621_37.json\n",
            "Saving PCY_201410221112520621_38.json to PCY_201410221112520621_38.json\n",
            "Saving PCY_201410221112520621_39.json to PCY_201410221112520621_39.json\n",
            "Saving PCY_201410221112520621_40.json to PCY_201410221112520621_40.json\n",
            "Saving PCY_201410221112520621_41.json to PCY_201410221112520621_41.json\n",
            "Saving PCY_201410221112520621_42.json to PCY_201410221112520621_42.json\n",
            "Saving PCY_201410221112520621_43.json to PCY_201410221112520621_43.json\n",
            "Saving PCY_201410221112520621_44.json to PCY_201410221112520621_44.json\n",
            "Saving PCY_201410221112520621_45.json to PCY_201410221112520621_45.json\n",
            "Saving PCY_201410221112520621_46.json to PCY_201410221112520621_46.json\n",
            "Saving PCY_201410221112520621_47.json to PCY_201410221112520621_47.json\n",
            "Saving PCY_201410221112520621_48.json to PCY_201410221112520621_48.json\n",
            "Saving PCY_201410221112520621_49.json to PCY_201410221112520621_49.json\n",
            "Saving PCY_201410221112520621_50.json to PCY_201410221112520621_50.json\n",
            "Saving PCY_201410221112520621_51.json to PCY_201410221112520621_51.json\n",
            "Saving PCY_201410221112520621_52.json to PCY_201410221112520621_52.json\n",
            "Saving PCY_201410221112520621_53.json to PCY_201410221112520621_53.json\n",
            "Saving PCY_201410221112520621_54.json to PCY_201410221112520621_54.json\n",
            "Saving PCY_201410221112520621_55.json to PCY_201410221112520621_55.json\n",
            "Saving PCY_201410221112520621_56.json to PCY_201410221112520621_56.json\n",
            "Saving PCY_201410221112520621_57.json to PCY_201410221112520621_57.json\n",
            "Saving PCY_201410221112520621_58.json to PCY_201410221112520621_58.json\n",
            "Saving PCY_201410221115409241_0.json to PCY_201410221115409241_0.json\n",
            "Saving PCY_201410221115409241_1.json to PCY_201410221115409241_1.json\n",
            "Saving PCY_201410221115409241_2.json to PCY_201410221115409241_2.json\n",
            "Saving PCY_201410221115409241_3.json to PCY_201410221115409241_3.json\n",
            "Saving PCY_201410221115409241_4.json to PCY_201410221115409241_4.json\n",
            "Saving PCY_201410221115409241_5.json to PCY_201410221115409241_5.json\n",
            "Saving PCY_201410221115409241_6.json to PCY_201410221115409241_6.json\n",
            "Saving PCY_201410221115409241_7.json to PCY_201410221115409241_7.json\n",
            "Saving PCY_201410221115409241_9.json to PCY_201410221115409241_9.json\n",
            "Saving PCY_201410221115409241_10.json to PCY_201410221115409241_10.json\n",
            "Saving PCY_201410221115409241_11.json to PCY_201410221115409241_11.json\n",
            "Saving PCY_201410221115409241_12.json to PCY_201410221115409241_12.json\n",
            "Saving PCY_201410221115409241_13.json to PCY_201410221115409241_13.json\n",
            "Saving PCY_201410221115409241_14.json to PCY_201410221115409241_14.json\n",
            "Saving PCY_201410221115409241_15.json to PCY_201410221115409241_15.json\n",
            "Saving PCY_201410221115409241_16.json to PCY_201410221115409241_16.json\n",
            "Saving PCY_201410221115409241_17.json to PCY_201410221115409241_17.json\n",
            "Saving PCY_201410221115409241_18.json to PCY_201410221115409241_18.json\n",
            "Saving PCY_201410221115409241_19.json to PCY_201410221115409241_19.json\n",
            "Saving PCY_201410221115409241_20.json to PCY_201410221115409241_20.json\n",
            "Saving PCY_201410221115409241_21.json to PCY_201410221115409241_21.json\n",
            "Saving PCY_201410221115409241_22.json to PCY_201410221115409241_22.json\n",
            "Saving PCY_201410221115409241_23.json to PCY_201410221115409241_23.json\n",
            "Saving PCY_201410221115409241_24.json to PCY_201410221115409241_24.json\n",
            "Saving PCY_201410221115409241_25.json to PCY_201410221115409241_25.json\n",
            "Saving PCY_201410221115409241_26.json to PCY_201410221115409241_26.json\n",
            "Saving PCY_201410221115409241_27.json to PCY_201410221115409241_27.json\n",
            "Saving PCY_201410221115409241_28.json to PCY_201410221115409241_28.json\n",
            "Saving PCY_201410221115409241_29.json to PCY_201410221115409241_29.json\n",
            "Saving PCY_201410221115409241_30.json to PCY_201410221115409241_30.json\n",
            "Saving PCY_201410221115409241_31.json to PCY_201410221115409241_31.json\n",
            "Saving PCY_201410221115409241_32.json to PCY_201410221115409241_32.json\n",
            "Saving PCY_201410221115409241_33.json to PCY_201410221115409241_33.json\n",
            "Saving PCY_201410221115409241_34.json to PCY_201410221115409241_34.json\n",
            "Saving PCY_201410221115409241_35.json to PCY_201410221115409241_35.json\n",
            "Saving PCY_201410221115409241_36.json to PCY_201410221115409241_36.json\n",
            "Saving PCY_201410221115409241_37.json to PCY_201410221115409241_37.json\n",
            "Saving PCY_201410221115409241_38.json to PCY_201410221115409241_38.json\n",
            "Saving PCY_201410221115409241_39.json to PCY_201410221115409241_39.json\n",
            "Saving PCY_201410280952133281_0.json to PCY_201410280952133281_0.json\n",
            "Saving PCY_201410280952133281_1.json to PCY_201410280952133281_1.json\n",
            "Saving PCY_201410280952133281_2.json to PCY_201410280952133281_2.json\n",
            "Saving PCY_201410280952133281_3.json to PCY_201410280952133281_3.json\n",
            "Saving PCY_201410280952133281_4.json to PCY_201410280952133281_4.json\n",
            "Saving PCY_201410280952133281_5.json to PCY_201410280952133281_5.json\n",
            "Saving PCY_201410280952133281_6.json to PCY_201410280952133281_6.json\n",
            "Saving PCY_201410280952133281_7.json to PCY_201410280952133281_7.json\n",
            "Saving PCY_201410280952133281_8.json to PCY_201410280952133281_8.json\n",
            "Saving PCY_201410280952133281_9.json to PCY_201410280952133281_9.json\n",
            "Saving PCY_201410280952133281_10.json to PCY_201410280952133281_10.json\n",
            "Saving PCY_201410280952133281_11.json to PCY_201410280952133281_11.json\n",
            "Saving PCY_201410280952133281_12.json to PCY_201410280952133281_12.json\n",
            "Saving PCY_201410280952133281_14.json to PCY_201410280952133281_14.json\n",
            "Saving PCY_201410280952133281_15.json to PCY_201410280952133281_15.json\n",
            "Saving PCY_201410280952133281_16.json to PCY_201410280952133281_16.json\n",
            "Saving PCY_201410280952133281_17.json to PCY_201410280952133281_17.json\n",
            "Saving PCY_201410280952133281_18.json to PCY_201410280952133281_18.json\n",
            "Saving PCY_201410280952133281_19.json to PCY_201410280952133281_19.json\n",
            "Saving PCY_201410280952133281_20.json to PCY_201410280952133281_20.json\n",
            "Saving PCY_201410280952133281_21.json to PCY_201410280952133281_21.json\n",
            "Saving PCY_201410280952133281_22.json to PCY_201410280952133281_22.json\n",
            "Saving PCY_201410280952133281_23.json to PCY_201410280952133281_23.json\n",
            "Saving PCY_201410280952133281_24.json to PCY_201410280952133281_24.json\n",
            "Saving PCY_201410280952133281_25.json to PCY_201410280952133281_25.json\n",
            "Saving PCY_201410280952133281_26.json to PCY_201410280952133281_26.json\n",
            "Saving PCY_201410280952133281_27.json to PCY_201410280952133281_27.json\n",
            "Saving PCY_201410280952133281_29.json to PCY_201410280952133281_29.json\n",
            "Saving PCY_201410280952133281_30.json to PCY_201410280952133281_30.json\n",
            "Saving PCY_201410280952133281_31.json to PCY_201410280952133281_31.json\n",
            "Saving PCY_201410280952133281_32.json to PCY_201410280952133281_32.json\n",
            "Saving PCY_201410280952133281_34.json to PCY_201410280952133281_34.json\n",
            "Saving PCY_201410280952133281_35.json to PCY_201410280952133281_35.json\n",
            "Saving PCY_201410280952133281_36.json to PCY_201410280952133281_36.json\n",
            "Saving PCY_201410280952133281_37.json to PCY_201410280952133281_37.json\n",
            "Saving PCY_201410280952133281_38.json to PCY_201410280952133281_38.json\n",
            "Saving PCY_201410280952133281_39.json to PCY_201410280952133281_39.json\n",
            "Saving PCY_201410290950144231_0.json to PCY_201410290950144231_0.json\n",
            "Saving PCY_201410290950144231_4.json to PCY_201410290950144231_4.json\n",
            "Saving PCY_201410290950144231_5.json to PCY_201410290950144231_5.json\n",
            "Saving PCY_201410290950144231_6.json to PCY_201410290950144231_6.json\n",
            "Saving PCY_201410290950144231_8.json to PCY_201410290950144231_8.json\n",
            "Saving PCY_201410290950144231_9.json to PCY_201410290950144231_9.json\n",
            "Saving PCY_201410290950144231_10.json to PCY_201410290950144231_10.json\n",
            "Saving PCY_201410290950144231_11.json to PCY_201410290950144231_11.json\n",
            "Saving PCY_201410290950144231_12.json to PCY_201410290950144231_12.json\n",
            "Saving PCY_201410290950144231_13.json to PCY_201410290950144231_13.json\n",
            "Saving PCY_201410290950144231_16.json to PCY_201410290950144231_16.json\n",
            "Saving PCY_201410290950144231_17.json to PCY_201410290950144231_17.json\n",
            "Saving PCY_201410290950144231_18.json to PCY_201410290950144231_18.json\n",
            "Saving PCY_201410290950144231_19.json to PCY_201410290950144231_19.json\n",
            "Saving PCY_201410290950144231_20.json to PCY_201410290950144231_20.json\n",
            "Saving PCY_201410290950144231_21.json to PCY_201410290950144231_21.json\n",
            "Saving PCY_201410290950144231_22.json to PCY_201410290950144231_22.json\n",
            "Saving PCY_201410290950144231_23.json to PCY_201410290950144231_23.json\n",
            "Saving PCY_201410290950144231_24.json to PCY_201410290950144231_24.json\n",
            "Saving PCY_201410290950144231_25.json to PCY_201410290950144231_25.json\n",
            "Saving PCY_201410290950144231_26.json to PCY_201410290950144231_26.json\n",
            "Saving PCY_201410290950144231_28.json to PCY_201410290950144231_28.json\n",
            "Saving PCY_201410290950144231_30.json to PCY_201410290950144231_30.json\n",
            "Saving PCY_201410290950144231_31.json to PCY_201410290950144231_31.json\n",
            "Saving PCY_201410290950144231_32.json to PCY_201410290950144231_32.json\n",
            "Saving PCY_201410290950144231_34.json to PCY_201410290950144231_34.json\n",
            "Saving PCY_201410290950144231_35.json to PCY_201410290950144231_35.json\n",
            "Saving PCY_201410290950144231_36.json to PCY_201410290950144231_36.json\n",
            "Saving PCY_201410290950144231_37.json to PCY_201410290950144231_37.json\n",
            "Saving PCY_201410290950144231_38.json to PCY_201410290950144231_38.json\n",
            "Saving PCY_201410290950144231_39.json to PCY_201410290950144231_39.json\n",
            "Saving PCY_201410290950144231_41.json to PCY_201410290950144231_41.json\n",
            "Saving PCY_201410290950144231_42.json to PCY_201410290950144231_42.json\n",
            "Saving PCY_201410290950144231_43.json to PCY_201410290950144231_43.json\n",
            "Saving PCY_201410290950144231_46.json to PCY_201410290950144231_46.json\n",
            "Saving PCY_201410290950144231_47.json to PCY_201410290950144231_47.json\n",
            "Saving PCY_201410290950144231_50.json to PCY_201410290950144231_50.json\n",
            "Saving PCY_201410290950144231_53.json to PCY_201410290950144231_53.json\n",
            "Saving PCY_201410290950144231_54.json to PCY_201410290950144231_54.json\n",
            "Saving PCY_201410290950144231_55.json to PCY_201410290950144231_55.json\n",
            "Saving PCY_201410290950144231_56.json to PCY_201410290950144231_56.json\n"
          ]
        }
      ]
    },
    {
      "cell_type": "code",
      "metadata": {
        "id": "1H_K9lRtqJ7M"
      },
      "source": [
        "# 데이터 확인"
      ],
      "execution_count": null,
      "outputs": []
    },
    {
      "cell_type": "code",
      "metadata": {
        "id": "6WIq8DRRqJ9e"
      },
      "source": [
        "# 데이터 전처리\n",
        "# 대소문자 통일"
      ],
      "execution_count": null,
      "outputs": []
    },
    {
      "cell_type": "code",
      "metadata": {
        "id": "SJvFpbATqJ_u"
      },
      "source": [
        "# 정규표현식(Regex)"
      ],
      "execution_count": null,
      "outputs": []
    },
    {
      "cell_type": "code",
      "metadata": {
        "id": "nc4HaaAyqKCM"
      },
      "source": [
        "# 불용어 처리\n",
        "stopwords = ['는', '은', '이', '의', '가', '을', '를', '으로', '도', '가']"
      ],
      "execution_count": null,
      "outputs": []
    },
    {
      "cell_type": "code",
      "metadata": {
        "id": "piytyY1fqKEl"
      },
      "source": [
        "# 정규화\n"
      ],
      "execution_count": null,
      "outputs": []
    },
    {
      "cell_type": "code",
      "metadata": {
        "id": "jMhqHH7nqKG7"
      },
      "source": [
        "# 결과 확인"
      ],
      "execution_count": null,
      "outputs": []
    },
    {
      "cell_type": "markdown",
      "metadata": {
        "id": "I0hW_30YuI1H"
      },
      "source": [
        ""
      ]
    },
    {
      "cell_type": "code",
      "metadata": {
        "id": "4-ppFp8rqKJI"
      },
      "source": [
        "# 벡터화\n",
        "# 임베딩 - Word2Vec\n",
        "# Skip-gram 방식 사용"
      ],
      "execution_count": null,
      "outputs": []
    },
    {
      "cell_type": "code",
      "metadata": {
        "id": "sAkk1RjFqKLi"
      },
      "source": [
        ""
      ],
      "execution_count": null,
      "outputs": []
    },
    {
      "cell_type": "code",
      "metadata": {
        "id": "M5L8F1IXqKNx"
      },
      "source": [
        ""
      ],
      "execution_count": null,
      "outputs": []
    },
    {
      "cell_type": "code",
      "metadata": {
        "id": "U5eX1B1JqIC6"
      },
      "source": [
        ""
      ],
      "execution_count": null,
      "outputs": []
    },
    {
      "cell_type": "code",
      "metadata": {
        "id": "LPWGR58eqIE9"
      },
      "source": [
        ""
      ],
      "execution_count": null,
      "outputs": []
    },
    {
      "cell_type": "code",
      "metadata": {
        "id": "GC5nJTYUqIHP"
      },
      "source": [
        ""
      ],
      "execution_count": null,
      "outputs": []
    },
    {
      "cell_type": "code",
      "metadata": {
        "id": "1i7zE5Z_qIJt"
      },
      "source": [
        ""
      ],
      "execution_count": null,
      "outputs": []
    },
    {
      "cell_type": "code",
      "metadata": {
        "id": "1-9TpzSXqIMD"
      },
      "source": [
        ""
      ],
      "execution_count": null,
      "outputs": []
    }
  ]
}